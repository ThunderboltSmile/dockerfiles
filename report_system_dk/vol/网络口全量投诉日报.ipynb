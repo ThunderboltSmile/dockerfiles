{
 "cells": [
  {
   "cell_type": "code",
   "execution_count": 8,
   "metadata": {},
   "outputs": [],
   "source": [
    "import cx_Oracle as odb\n",
    "import pandas as pd\n",
    "connection=odb.connect('yjdailydb','123456','192.168.2.237:1521/xe')"
   ]
  },
  {
   "cell_type": "code",
   "execution_count": 9,
   "metadata": {},
   "outputs": [
    {
     "data": {
      "text/html": [
       "<div>\n",
       "<style scoped>\n",
       "    .dataframe tbody tr th:only-of-type {\n",
       "        vertical-align: middle;\n",
       "    }\n",
       "\n",
       "    .dataframe tbody tr th {\n",
       "        vertical-align: top;\n",
       "    }\n",
       "\n",
       "    .dataframe thead th {\n",
       "        text-align: right;\n",
       "    }\n",
       "</style>\n",
       "<table border=\"1\" class=\"dataframe\">\n",
       "  <thead>\n",
       "    <tr style=\"text-align: right;\">\n",
       "      <th></th>\n",
       "      <th>owner_city</th>\n",
       "      <th>job_number</th>\n",
       "      <th>complaint_type_id</th>\n",
       "      <th>accept_number</th>\n",
       "      <th>complaints_time</th>\n",
       "      <th>accept_job_number</th>\n",
       "      <th>day_id</th>\n",
       "      <th>complaints_area</th>\n",
       "      <th>occur_area</th>\n",
       "    </tr>\n",
       "  </thead>\n",
       "  <tbody>\n",
       "    <tr>\n",
       "      <th>0</th>\n",
       "      <td>成都</td>\n",
       "      <td>2019041026334</td>\n",
       "      <td>033704030003200a</td>\n",
       "      <td>15928841756</td>\n",
       "      <td>2019-04-10 19:30:28</td>\n",
       "      <td>SCKF2678</td>\n",
       "      <td>20190410</td>\n",
       "      <td>成都--武侯区--成都市武侯区金花镇七里村1组</td>\n",
       "      <td>成都</td>\n",
       "    </tr>\n",
       "    <tr>\n",
       "      <th>1</th>\n",
       "      <td>成都</td>\n",
       "      <td>2019041026389</td>\n",
       "      <td>0336041300030700</td>\n",
       "      <td>18224010356</td>\n",
       "      <td>2019-04-10 19:31:40</td>\n",
       "      <td>HZMM0245</td>\n",
       "      <td>20190410</td>\n",
       "      <td>成都--新都--天府新区华阳协和大道</td>\n",
       "      <td>成都</td>\n",
       "    </tr>\n",
       "    <tr>\n",
       "      <th>2</th>\n",
       "      <td>德阳</td>\n",
       "      <td>2019041026704</td>\n",
       "      <td>0337040300031700</td>\n",
       "      <td>18281094023</td>\n",
       "      <td>2019-04-10 19:39:27</td>\n",
       "      <td>SCKF1173</td>\n",
       "      <td>20190410</td>\n",
       "      <td>德阳--广汉市--德阳广汉市大同安居小区二期30号楼6-4-1</td>\n",
       "      <td>德阳</td>\n",
       "    </tr>\n",
       "    <tr>\n",
       "      <th>3</th>\n",
       "      <td>成都</td>\n",
       "      <td>2019041026423</td>\n",
       "      <td>033604150b03010b</td>\n",
       "      <td>13980453601</td>\n",
       "      <td>2019-04-10 19:32:30</td>\n",
       "      <td>HZXJ0714</td>\n",
       "      <td>20190410</td>\n",
       "      <td>成都--彭州--四川省成都市彭州市蒙阳镇中海外北岛（用户无法提供更为详细地址）</td>\n",
       "      <td>成都</td>\n",
       "    </tr>\n",
       "    <tr>\n",
       "      <th>4</th>\n",
       "      <td>天府新区</td>\n",
       "      <td>2019041026449</td>\n",
       "      <td>0336041300030100</td>\n",
       "      <td>15882419611</td>\n",
       "      <td>2019-04-10 19:33:08</td>\n",
       "      <td>SCKF2911</td>\n",
       "      <td>20190410</td>\n",
       "      <td>天府新区--天府直管区--兴星镇孔雀村 具体用户不愿提供</td>\n",
       "      <td>天府新区</td>\n",
       "    </tr>\n",
       "  </tbody>\n",
       "</table>\n",
       "</div>"
      ],
      "text/plain": [
       "  owner_city     job_number complaint_type_id accept_number  \\\n",
       "0         成都  2019041026334  033704030003200a   15928841756   \n",
       "1         成都  2019041026389  0336041300030700   18224010356   \n",
       "2         德阳  2019041026704  0337040300031700   18281094023   \n",
       "3         成都  2019041026423  033604150b03010b   13980453601   \n",
       "4       天府新区  2019041026449  0336041300030100   15882419611   \n",
       "\n",
       "       complaints_time accept_job_number    day_id  \\\n",
       "0  2019-04-10 19:30:28          SCKF2678  20190410   \n",
       "1  2019-04-10 19:31:40          HZMM0245  20190410   \n",
       "2  2019-04-10 19:39:27          SCKF1173  20190410   \n",
       "3  2019-04-10 19:32:30          HZXJ0714  20190410   \n",
       "4  2019-04-10 19:33:08          SCKF2911  20190410   \n",
       "\n",
       "                           complaints_area occur_area  \n",
       "0                  成都--武侯区--成都市武侯区金花镇七里村1组         成都  \n",
       "1                       成都--新都--天府新区华阳协和大道         成都  \n",
       "2          德阳--广汉市--德阳广汉市大同安居小区二期30号楼6-4-1         德阳  \n",
       "3  成都--彭州--四川省成都市彭州市蒙阳镇中海外北岛（用户无法提供更为详细地址）         成都  \n",
       "4             天府新区--天府直管区--兴星镇孔雀村 具体用户不愿提供       天府新区  "
      ]
     },
     "execution_count": 9,
     "metadata": {},
     "output_type": "execute_result"
    }
   ],
   "source": [
    "sql='''\n",
    "    select * from YJDAILYDB.VIEW_APPEALDETAILS where DAY_ID >= '20190401' and DAY_ID <= '20190430'\n",
    "'''\n",
    "appeal_details_list=[]\n",
    "with connection.cursor() as cur:\n",
    "    for row in cur.execute(sql):\n",
    "        appeal_details_list.append(row)\n",
    "cols=['owner_city','job_number','complaint_type_id','accept_number','complaints_time','accept_job_number','day_id','complaints_area','occur_area']\n",
    "appeal_details_df=pd.DataFrame(appeal_details_list,columns=cols)\n",
    "appeal_details_df.head()"
   ]
  },
  {
   "cell_type": "markdown",
   "metadata": {},
   "source": [
    "- 以下12个方法，接收年份月份作为参数，将相应数据查出来后保存为不同名称的csv文件，返回csv文件名和操作结果是否成功"
   ]
  },
  {
   "cell_type": "code",
   "execution_count": 3,
   "metadata": {},
   "outputs": [],
   "source": [
    "# 每月的投诉用户数量\n",
    "# 每个地市当月的投诉用户数量\n"
   ]
  },
  {
   "cell_type": "code",
   "execution_count": 4,
   "metadata": {},
   "outputs": [],
   "source": [
    "# 每月的移动业务投诉用户数量\n",
    "# 每个地市当月的移动业务投诉用户数量\n"
   ]
  },
  {
   "cell_type": "code",
   "execution_count": 5,
   "metadata": {},
   "outputs": [],
   "source": [
    "# 每月的家庭业务投诉用户数量\n",
    "# 每个地市当月的家庭业务投诉用户数量\n"
   ]
  },
  {
   "cell_type": "code",
   "execution_count": 6,
   "metadata": {},
   "outputs": [],
   "source": [
    "# 每月的重复投诉用户数量\n",
    "# 每个地市当月的重复投诉用户数量\n"
   ]
  },
  {
   "cell_type": "code",
   "execution_count": null,
   "metadata": {},
   "outputs": [],
   "source": []
  }
 ],
 "metadata": {
  "kernelspec": {
   "display_name": "Python 3",
   "language": "python",
   "name": "python3"
  },
  "language_info": {
   "codemirror_mode": {
    "name": "ipython",
    "version": 3
   },
   "file_extension": ".py",
   "mimetype": "text/x-python",
   "name": "python",
   "nbconvert_exporter": "python",
   "pygments_lexer": "ipython3",
   "version": "3.6.6"
  }
 },
 "nbformat": 4,
 "nbformat_minor": 2
}
